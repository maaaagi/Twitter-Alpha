{
 "cells": [
  {
   "cell_type": "code",
   "execution_count": null,
   "id": "107c2072",
   "metadata": {},
   "outputs": [],
   "source": [
    "---\n",
    "title: Twitter Following Alpha\n",
    "author: Yifan\n",
    "description: getting the twitter following data \n",
    "show-code: False\n",
    "--- "
   ]
  },
  {
   "cell_type": "code",
   "execution_count": 16,
   "id": "a5ebfbe7",
   "metadata": {},
   "outputs": [],
   "source": [
    "import os\n",
    "import boto3\n",
    "from boto3 import session\n",
    "import io\n",
    "#from io import StringIO # python3; python2: BytesIO \n",
    "\n",
    "import mercury as mr\n",
    "import pandas as pd\n",
    "import numpy as np\n",
    "\n",
    "from botocore import config\n",
    "\n",
    "\n",
    "#print(secret_key)\n"
   ]
  },
  {
   "cell_type": "code",
   "execution_count": 6,
   "id": "83a98244",
   "metadata": {},
   "outputs": [],
   "source": [
    "pd.set_option('display.max_columns',None)\n",
    "pd.set_option('display.max_rows',None)\n",
    "pd.set_option('max_colwidth',100)"
   ]
  },
  {
   "cell_type": "code",
   "execution_count": null,
   "id": "27f22141",
   "metadata": {
    "scrolled": false
   },
   "outputs": [],
   "source": []
  },
  {
   "cell_type": "code",
   "execution_count": null,
   "id": "5025b5dd",
   "metadata": {
    "scrolled": true
   },
   "outputs": [],
   "source": []
  },
  {
   "cell_type": "code",
   "execution_count": null,
   "id": "38eca252",
   "metadata": {},
   "outputs": [],
   "source": [
    "proxies = {\n",
    "        'https': 'http://127.0.0.1:7890',  \n",
    "        'http': 'http://127.0.0.1:7890'  \n",
    "    }\n"
   ]
  },
  {
   "cell_type": "code",
   "execution_count": 20,
   "id": "3cac3c71",
   "metadata": {},
   "outputs": [],
   "source": [
    "#session = boto3.session.Session(aws_access_key_id=key_id, aws_secret_access_key=secret_key)\n",
    "\n",
    "s3_client = boto3.client('s3')\n"
   ]
  },
  {
   "cell_type": "code",
   "execution_count": null,
   "id": "9297ddcf",
   "metadata": {
    "scrolled": true
   },
   "outputs": [],
   "source": []
  },
  {
   "cell_type": "code",
   "execution_count": null,
   "id": "6b6a6da3",
   "metadata": {},
   "outputs": [],
   "source": [
    "import mercury as mr\n",
    " \n",
    "# add select widget\n",
    "\n",
    "choices = [\"a16z_common\",\"chinese_common\",\"coinbase_common\",\"dragonfly_common\",\"HackVC_common\",\"HaunVentures_common\",\"KOL_common\",\"paradigm_common\",\\\n",
    "          \"polychain_common\",\"robot_common\",\"variant_common\",\"Final\"]\n",
    "\n",
    "group_selection = mr.Select(value=\"dragonfly_common\", choices=choices, label=\"选择VC组\")\n",
    "\n",
    "\n",
    "import mercury as mr\n",
    " \n",
    "# add range widget\n",
    "your_range = mr.Range(value=[2023, 2023], min=2020, max=2023, label=\"请选择你的想要的数据时间范围\", step=1)\n",
    "\n",
    "#print(group_selection.value)"
   ]
  },
  {
   "cell_type": "code",
   "execution_count": null,
   "id": "2aa7a355",
   "metadata": {},
   "outputs": [],
   "source": [
    "#获取想要的列\n",
    "\"\"\"\n",
    "目前选择 name, username,can_dm, created_at,bio,followers_count,following_count,profile_url\n",
    "\n",
    "\"\"\"\n",
    "def clean_columns(df):\n",
    "\n",
    "    columns = ['name', 'username','can_dm', 'created_at',\\\n",
    "               'bio','followers_count','following_count','profile_url']\n",
    "    \n",
    "    df_clean = df[columns]\n",
    "    \n",
    "    \n",
    "    return df_clean\n",
    "    \n",
    "\n",
    "\n",
    "\n",
    "\n",
    "# 每个KOL关注的新创立的账号\n",
    "\n",
    "# 有些时间再DM列，start 是反的 -- 重新爬\n",
    "\n",
    "def get_by_time(df,start=2022,end=2023,get_time=True):\n",
    "    \n",
    "    \n",
    "    if get_time == True:\n",
    "        \n",
    "        count = 1\n",
    "        \n",
    "        larger_start = df['created_at'].apply(lambda x: x.split(',')[0]).str.endswith(str(start))\n",
    "            \n",
    "        df_list = df[larger_start]\n",
    "        \n",
    "        while start + count <= end:\n",
    "            \n",
    "            time = start + count\n",
    "            \n",
    "            smaller_end = df['created_at'].apply(lambda x: x.split(',')[0]).str.endswith(str(time))\n",
    "            \n",
    "            df_temp = df[smaller_end]\n",
    "            \n",
    "            df_list = pd.concat([df_list,df_temp])\n",
    "            \n",
    "            count += 1\n",
    "\n",
    "        \n",
    "        #df_time = df_list.sort_values('created_at',ascending=False)\n",
    "        \n",
    "        return df_list\n",
    "    \n",
    "    else:\n",
    "        print(\"set get_time = true\")\n",
    "        return 1\n",
    "        \n"
   ]
  },
  {
   "cell_type": "code",
   "execution_count": null,
   "id": "7ff08d3f",
   "metadata": {},
   "outputs": [],
   "source": [
    "data_bucket_name = \"twiiterfollowing\"\n",
    "file_path = group_selection.value + \".csv\"\n",
    "\n",
    "response = s3_client.get_object(Bucket=data_bucket_name,Key=file_path)\n",
    "response_body = response['Body'].read()\n",
    "\n",
    "df = pd.read_csv(io.BytesIO(response_body))\n"
   ]
  },
  {
   "cell_type": "code",
   "execution_count": null,
   "id": "04cd5ce6",
   "metadata": {},
   "outputs": [],
   "source": [
    "# 时间调整\n",
    "df_time = get_by_time(df,start=your_range.value[0],end=your_range.value[1])"
   ]
  },
  {
   "cell_type": "code",
   "execution_count": null,
   "id": "84534d5e",
   "metadata": {},
   "outputs": [],
   "source": [
    "# 排序方法\n",
    "\n",
    "sort_list = [\"按照时间排序\",\"按照VC共同follow的数量排序\",\"按照项目本身follower的数量排序\"]\n",
    "sort_as = mr.Select(value=sort_list[2], choices=sort_list, label=\"选择排序方式\")\n",
    "\n",
    "\n",
    "if sort_as.value == sort_list[0]:\n",
    "    df_final = df_time.sort_values(by='created_at')\n",
    "elif sort_as.value == sort_list[1]:\n",
    "    df_final = df_time.sort_values(by='size')\n",
    "elif sort_as.value == sort_list[2]:\n",
    "    df_final = df_time.sort_values(by='followers_count')\n",
    "    \n",
    "\n"
   ]
  },
  {
   "cell_type": "code",
   "execution_count": null,
   "id": "f972d085",
   "metadata": {},
   "outputs": [],
   "source": [
    "print(\"1. size 代表所有这些VC研究员共同follow的数量\")\n"
   ]
  },
  {
   "cell_type": "code",
   "execution_count": null,
   "id": "9deecc65",
   "metadata": {},
   "outputs": [],
   "source": [
    "print(\"2. username 代表twitter账号，可以直接搜索\")"
   ]
  },
  {
   "cell_type": "code",
   "execution_count": null,
   "id": "491b9710",
   "metadata": {},
   "outputs": [],
   "source": [
    "print(\"3. 不同的group代表不同的VC机构研究员，每个VC group 包含旗下所有研究员数据\")\n"
   ]
  },
  {
   "cell_type": "code",
   "execution_count": null,
   "id": "8307ddcd",
   "metadata": {},
   "outputs": [],
   "source": [
    "print(\"4. Final 代表所有的VC数据汇总\")"
   ]
  },
  {
   "cell_type": "code",
   "execution_count": null,
   "id": "3389f9d4",
   "metadata": {},
   "outputs": [],
   "source": [
    "print(\"5. 乱码代码是各种表情符号，直接忽略就行，看英文部分\")"
   ]
  },
  {
   "cell_type": "code",
   "execution_count": null,
   "id": "1dca1055",
   "metadata": {},
   "outputs": [],
   "source": [
    "df_end = df_final.reset_index(drop=True)\n",
    "df_end"
   ]
  },
  {
   "cell_type": "code",
   "execution_count": null,
   "id": "a4fcc289",
   "metadata": {},
   "outputs": [],
   "source": [
    "## 加入写入逻辑\n",
    "\n",
    "\"\"\"s3 = boto3.resource(\n",
    "    's3',\n",
    "    region_name='ap-southeast-2',\n",
    "    aws_access_key_id=key_id,\n",
    "    aws_secret_access_key=secret_key\n",
    ")\n",
    "\n",
    "#s3.Bucket(data_bucket_name).upload_file(r'\\\\' + file_path, file_path)\n",
    "\n",
    "\n",
    "s3_client.upload_file('/' + file_path, data_bucket_name, file_path)\n",
    "\n",
    "\n",
    "\n",
    "\n",
    "bucket = data_bucket_name # already created on S3\n",
    "csv_buffer = StringIO()\n",
    "df_end.to_csv(csv_buffer)\n",
    "#s3_resource = boto3.resource('s3')\n",
    "s3.Object(bucket, file_path).put(Body=csv_buffer.getvalue())\"\"\"\n"
   ]
  }
 ],
 "metadata": {
  "kernelspec": {
   "display_name": "Python 3 (ipykernel)",
   "language": "python",
   "name": "python3"
  },
  "language_info": {
   "codemirror_mode": {
    "name": "ipython",
    "version": 3
   },
   "file_extension": ".py",
   "mimetype": "text/x-python",
   "name": "python",
   "nbconvert_exporter": "python",
   "pygments_lexer": "ipython3",
   "version": "3.9.12"
  }
 },
 "nbformat": 4,
 "nbformat_minor": 5
}
